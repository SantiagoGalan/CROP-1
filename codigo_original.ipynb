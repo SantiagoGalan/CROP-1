{
 "cells": [
  {
   "cell_type": "code",
   "execution_count": 15,
   "id": "deffd93e",
   "metadata": {},
   "outputs": [],
   "source": [
    "\n",
    "\n",
    "## Setup -----------------------------------------------------------------------\n",
    "from __future__ import absolute_import\n",
    "from __future__ import division\n",
    "from __future__ import print_function\n",
    "\n",
    "import tensorflow as tf\n",
    "\n",
    "from tensorflow import keras\n",
    "from tensorflow.python.ops.math_ops import Pow\n",
    "\n",
    "#\n",
    "\n",
    "from tensorflow.keras.layers import BatchNormalization, Dropout\n",
    "\n",
    "from tensorflow.keras.callbacks import EarlyStopping, ModelCheckpoint\n",
    "\n",
    "from keras.layers import Lambda, Input, Dense, Concatenate\n",
    "from keras.models import Model                                                  # Ok: se usa 230201\n",
    "from keras.datasets import mnist\n",
    "#from keras.losses import mse, binary_crossentropy\n",
    "\n",
    "from tensorflow.keras.losses import MeanSquaredError, BinaryCrossentropy\n",
    "mse = MeanSquaredError()\n",
    "binary_crossentropy = BinaryCrossentropy()\n",
    "\n",
    "from keras.utils import plot_model\n",
    "from keras import backend as K\n",
    "from keras import optimizers\n",
    "from keras import layers\n",
    "\n",
    "import numpy as np\n",
    "import matplotlib as mplt\n",
    "import matplotlib.pyplot as plt\n",
    "import argparse\n",
    "import os\n",
    "import pickle\n",
    "\n",
    "## Parameters -------------------------------------------------------------------\n",
    "MIX = \"AVERAGE\"                                  # \"MAX\"\n"
   ]
  },
  {
   "cell_type": "code",
   "execution_count": null,
   "id": "a94c4a98",
   "metadata": {},
   "outputs": [
    {
     "name": "stdout",
     "output_type": "stream",
     "text": [
      "x_train(60k).shape:       (60000, 28, 28)\n",
      "x_train_C.shape:     (55000, 28, 28, 1)\n",
      "x_val_C.shape:     (5000, 28, 28, 1)\n",
      "x_test_C.shape:      (10000, 28, 28, 1)\n",
      "x_train.shape:       (55000, 784)\n",
      "x_val.shape:       (5000, 784)\n",
      "x_test.shape:       (10000, 784)\n",
      "Xampliado.shape:     (55000, 794)\n",
      "x_train_1.shape:    (55000, 784)\n",
      "y_train_1.shape:      (55000, 10)\n",
      "x_train_mix.shape:  (55000, 784)\n",
      "x_test_1.shape:    (10000, 784)\n",
      "y_test_1.shape:      (10000, 10)\n",
      "x_test_mix.shape:  (10000, 784)\n",
      "<KerasTensor shape=(None, 128), dtype=float32, sparse=False, ragged=False, name=z_sampling>\n",
      "<KerasTensor shape=(None, 10), dtype=float32, sparse=False, ragged=False, name=decoder_condition>\n"
     ]
    },
    {
     "data": {
      "text/html": [
       "<pre style=\"white-space:pre;overflow-x:auto;line-height:normal;font-family:Menlo,'DejaVu Sans Mono',consolas,'Courier New',monospace\"><span style=\"font-weight: bold\">Model: \"vae\"</span>\n",
       "</pre>\n"
      ],
      "text/plain": [
       "\u001b[1mModel: \"vae\"\u001b[0m\n"
      ]
     },
     "metadata": {},
     "output_type": "display_data"
    },
    {
     "data": {
      "text/html": [
       "<pre style=\"white-space:pre;overflow-x:auto;line-height:normal;font-family:Menlo,'DejaVu Sans Mono',consolas,'Courier New',monospace\">┏━━━━━━━━━━━━━━━━━━━━━┳━━━━━━━━━━━━━━━━━━━┳━━━━━━━━━━━━┳━━━━━━━━━━━━━━━━━━━┓\n",
       "┃<span style=\"font-weight: bold\"> Layer (type)        </span>┃<span style=\"font-weight: bold\"> Output Shape      </span>┃<span style=\"font-weight: bold\">    Param # </span>┃<span style=\"font-weight: bold\"> Connected to      </span>┃\n",
       "┡━━━━━━━━━━━━━━━━━━━━━╇━━━━━━━━━━━━━━━━━━━╇━━━━━━━━━━━━╇━━━━━━━━━━━━━━━━━━━┩\n",
       "│ keras_tensor_115CL… │ (<span style=\"color: #00d7ff; text-decoration-color: #00d7ff\">None</span>, <span style=\"color: #00af00; text-decoration-color: #00af00\">794</span>)       │          <span style=\"color: #00af00; text-decoration-color: #00af00\">0</span> │ -                 │\n",
       "│ (<span style=\"color: #0087ff; text-decoration-color: #0087ff\">InputLayer</span>)        │                   │            │                   │\n",
       "├─────────────────────┼───────────────────┼────────────┼───────────────────┤\n",
       "│ encoder             │ [(<span style=\"color: #00d7ff; text-decoration-color: #00d7ff\">None</span>, <span style=\"color: #00af00; text-decoration-color: #00af00\">128</span>),     │    <span style=\"color: #00af00; text-decoration-color: #00af00\">269,312</span> │ keras_tensor_115… │\n",
       "│ (<span style=\"color: #0087ff; text-decoration-color: #0087ff\">Functional</span>)        │ (<span style=\"color: #00d7ff; text-decoration-color: #00d7ff\">None</span>, <span style=\"color: #00af00; text-decoration-color: #00af00\">128</span>),      │            │                   │\n",
       "│                     │ (<span style=\"color: #00d7ff; text-decoration-color: #00d7ff\">None</span>, <span style=\"color: #00af00; text-decoration-color: #00af00\">128</span>)]      │            │                   │\n",
       "├─────────────────────┼───────────────────┼────────────┼───────────────────┤\n",
       "│ decoder_condition   │ (<span style=\"color: #00d7ff; text-decoration-color: #00d7ff\">None</span>, <span style=\"color: #00af00; text-decoration-color: #00af00\">10</span>)        │          <span style=\"color: #00af00; text-decoration-color: #00af00\">0</span> │ -                 │\n",
       "│ (<span style=\"color: #0087ff; text-decoration-color: #0087ff\">InputLayer</span>)        │                   │            │                   │\n",
       "├─────────────────────┼───────────────────┼────────────┼───────────────────┤\n",
       "│ concatenate_36      │ (<span style=\"color: #00d7ff; text-decoration-color: #00d7ff\">None</span>, <span style=\"color: #00af00; text-decoration-color: #00af00\">138</span>)       │          <span style=\"color: #00af00; text-decoration-color: #00af00\">0</span> │ encoder[<span style=\"color: #00af00; text-decoration-color: #00af00\">1</span>][<span style=\"color: #00af00; text-decoration-color: #00af00\">2</span>],    │\n",
       "│ (<span style=\"color: #0087ff; text-decoration-color: #0087ff\">Concatenate</span>)       │                   │            │ decoder_conditio… │\n",
       "├─────────────────────┼───────────────────┼────────────┼───────────────────┤\n",
       "│ decoder             │ (<span style=\"color: #00d7ff; text-decoration-color: #00d7ff\">None</span>, <span style=\"color: #00af00; text-decoration-color: #00af00\">784</span>)       │    <span style=\"color: #00af00; text-decoration-color: #00af00\">237,072</span> │ concatenate_36[<span style=\"color: #00af00; text-decoration-color: #00af00\">1</span>… │\n",
       "│ (<span style=\"color: #0087ff; text-decoration-color: #0087ff\">Functional</span>)        │                   │            │                   │\n",
       "└─────────────────────┴───────────────────┴────────────┴───────────────────┘\n",
       "</pre>\n"
      ],
      "text/plain": [
       "┏━━━━━━━━━━━━━━━━━━━━━┳━━━━━━━━━━━━━━━━━━━┳━━━━━━━━━━━━┳━━━━━━━━━━━━━━━━━━━┓\n",
       "┃\u001b[1m \u001b[0m\u001b[1mLayer (type)       \u001b[0m\u001b[1m \u001b[0m┃\u001b[1m \u001b[0m\u001b[1mOutput Shape     \u001b[0m\u001b[1m \u001b[0m┃\u001b[1m \u001b[0m\u001b[1m   Param #\u001b[0m\u001b[1m \u001b[0m┃\u001b[1m \u001b[0m\u001b[1mConnected to     \u001b[0m\u001b[1m \u001b[0m┃\n",
       "┡━━━━━━━━━━━━━━━━━━━━━╇━━━━━━━━━━━━━━━━━━━╇━━━━━━━━━━━━╇━━━━━━━━━━━━━━━━━━━┩\n",
       "│ keras_tensor_115CL… │ (\u001b[38;5;45mNone\u001b[0m, \u001b[38;5;34m794\u001b[0m)       │          \u001b[38;5;34m0\u001b[0m │ -                 │\n",
       "│ (\u001b[38;5;33mInputLayer\u001b[0m)        │                   │            │                   │\n",
       "├─────────────────────┼───────────────────┼────────────┼───────────────────┤\n",
       "│ encoder             │ [(\u001b[38;5;45mNone\u001b[0m, \u001b[38;5;34m128\u001b[0m),     │    \u001b[38;5;34m269,312\u001b[0m │ keras_tensor_115… │\n",
       "│ (\u001b[38;5;33mFunctional\u001b[0m)        │ (\u001b[38;5;45mNone\u001b[0m, \u001b[38;5;34m128\u001b[0m),      │            │                   │\n",
       "│                     │ (\u001b[38;5;45mNone\u001b[0m, \u001b[38;5;34m128\u001b[0m)]      │            │                   │\n",
       "├─────────────────────┼───────────────────┼────────────┼───────────────────┤\n",
       "│ decoder_condition   │ (\u001b[38;5;45mNone\u001b[0m, \u001b[38;5;34m10\u001b[0m)        │          \u001b[38;5;34m0\u001b[0m │ -                 │\n",
       "│ (\u001b[38;5;33mInputLayer\u001b[0m)        │                   │            │                   │\n",
       "├─────────────────────┼───────────────────┼────────────┼───────────────────┤\n",
       "│ concatenate_36      │ (\u001b[38;5;45mNone\u001b[0m, \u001b[38;5;34m138\u001b[0m)       │          \u001b[38;5;34m0\u001b[0m │ encoder[\u001b[38;5;34m1\u001b[0m][\u001b[38;5;34m2\u001b[0m],    │\n",
       "│ (\u001b[38;5;33mConcatenate\u001b[0m)       │                   │            │ decoder_conditio… │\n",
       "├─────────────────────┼───────────────────┼────────────┼───────────────────┤\n",
       "│ decoder             │ (\u001b[38;5;45mNone\u001b[0m, \u001b[38;5;34m784\u001b[0m)       │    \u001b[38;5;34m237,072\u001b[0m │ concatenate_36[\u001b[38;5;34m1\u001b[0m… │\n",
       "│ (\u001b[38;5;33mFunctional\u001b[0m)        │                   │            │                   │\n",
       "└─────────────────────┴───────────────────┴────────────┴───────────────────┘\n"
      ]
     },
     "metadata": {},
     "output_type": "display_data"
    },
    {
     "data": {
      "text/html": [
       "<pre style=\"white-space:pre;overflow-x:auto;line-height:normal;font-family:Menlo,'DejaVu Sans Mono',consolas,'Courier New',monospace\"><span style=\"font-weight: bold\"> Total params: </span><span style=\"color: #00af00; text-decoration-color: #00af00\">506,384</span> (1.93 MB)\n",
       "</pre>\n"
      ],
      "text/plain": [
       "\u001b[1m Total params: \u001b[0m\u001b[38;5;34m506,384\u001b[0m (1.93 MB)\n"
      ]
     },
     "metadata": {},
     "output_type": "display_data"
    },
    {
     "data": {
      "text/html": [
       "<pre style=\"white-space:pre;overflow-x:auto;line-height:normal;font-family:Menlo,'DejaVu Sans Mono',consolas,'Courier New',monospace\"><span style=\"font-weight: bold\"> Trainable params: </span><span style=\"color: #00af00; text-decoration-color: #00af00\">506,384</span> (1.93 MB)\n",
       "</pre>\n"
      ],
      "text/plain": [
       "\u001b[1m Trainable params: \u001b[0m\u001b[38;5;34m506,384\u001b[0m (1.93 MB)\n"
      ]
     },
     "metadata": {},
     "output_type": "display_data"
    },
    {
     "data": {
      "text/html": [
       "<pre style=\"white-space:pre;overflow-x:auto;line-height:normal;font-family:Menlo,'DejaVu Sans Mono',consolas,'Courier New',monospace\"><span style=\"font-weight: bold\"> Non-trainable params: </span><span style=\"color: #00af00; text-decoration-color: #00af00\">0</span> (0.00 B)\n",
       "</pre>\n"
      ],
      "text/plain": [
       "\u001b[1m Non-trainable params: \u001b[0m\u001b[38;5;34m0\u001b[0m (0.00 B)\n"
      ]
     },
     "metadata": {},
     "output_type": "display_data"
    },
    {
     "data": {
      "image/png": "[encoded data removed]",
      "text/plain": [
       "<IPython.core.display.Image object>"
      ]
     },
     "execution_count": 42,
     "metadata": {},
     "output_type": "execute_result"
    }
   ],
   "source": [
    "## Data aquisition & Preprocessing ---------------------------------------------\n",
    "# Agregado el validation set 240623\n",
    "\n",
    "  # MNIST dataset\n",
    "(x_train, y_train), (x_test, y_test) = mnist.load_data()\n",
    "print(\"x_train(60k).shape:      \", x_train.shape)\n",
    "\n",
    "  # Normalization\n",
    "image_size = x_train.shape[1]                                                   # 28\n",
    "x_train = x_train.astype('float32') / 255                                       # [0, 1] imagnes re-escalada\n",
    "x_test = x_test.astype('float32') / 255                                         # [0, 1]\n",
    "\n",
    "  # Original individual images for Convolutional NN (28x28)\n",
    "original_dim_C = image_size                                                     # 28\n",
    "x_train_C = np.expand_dims(x_train, -1)\n",
    "x_test_C = np.expand_dims(x_test, -1)\n",
    "# Split training data into training and validation sets\n",
    "x_train_C, x_val_C = x_train_C[:55000], x_train_C[55000:]\n",
    "print(\"x_train_C.shape:    \", x_train_C.shape)\n",
    "print(\"x_val_C.shape:    \", x_val_C.shape)\n",
    "print(\"x_test_C.shape:     \", x_test_C.shape)\n",
    "\n",
    "  # Flatten the individual images for Dense NN (784)\n",
    "original_dim = image_size * image_size                                          # 784 cantidad de pixeles de la imagen\n",
    "x_train = np.reshape(x_train, [-1, original_dim])                               # imagenes en 1D\n",
    "x_test = np.reshape(x_test, [-1, original_dim])\n",
    "\n",
    "y_train = tf.keras.utils.to_categorical(y_train)                                # one-hot\n",
    "y_test = tf.keras.utils.to_categorical(y_test)                                  #\n",
    "y_test_orig = y_test\n",
    "\n",
    "# Split training data into training and validation sets\n",
    "x_train, x_val = x_train[:55000], x_train[55000:]\n",
    "y_train, y_val = y_train[:55000], y_train[55000:]\n",
    "\n",
    "print(\"x_train.shape:      \", x_train.shape)\n",
    "print(\"x_val.shape:      \", x_val.shape)\n",
    "print(\"x_test.shape:      \", x_test.shape)\n",
    "\n",
    "  # Ver para condicionar Convolutional  ******************************************\n",
    "\n",
    "  # Para condicionar Dense (no se usa?)\n",
    "Xampliado = Concatenate()([x_train,y_train])\n",
    "print(\"Xampliado.shape:    \", Xampliado.shape)\n",
    "\n",
    "\n",
    "## Superimposed digits - MAX\n",
    "np.random.seed(3333)                                    #3333 Cambio el seed de 2022 (2024) para ver variabilidad   # de VAE 5 para fijar las pruebas y poder comparar\n",
    "permrows = np.random.permutation(x_train.shape[0])\n",
    "x_train_C_1 = x_train_C[permrows,:]                                               # alternative set for Convolutional\n",
    "x_train_1 = x_train[permrows,:]                                               # alternative set for Dense\n",
    "y_train_1 = y_train[permrows,:]\n",
    "permrows = np.random.permutation(x_test.shape[0])\n",
    "x_test_C_1 = x_test_C[permrows,:]                                               # alternative set for Convolutional\n",
    "x_test_1 = x_test[permrows,:]                                               # alternative set for Dense\n",
    "y_test_1 = y_test[permrows,:]\n",
    "\n",
    "if MIX == \"MAX\":\n",
    "  maximum_image = np.maximum(x_train,x_train_1)\n",
    "  x_train_mix = maximum_image                                                    # Habilta para MAX - Inabilita para AVERAGE\n",
    "  print(\"x_train_1.shape:   \", x_train_1.shape)\n",
    "  print(\"y_train_1.shape:     \", y_train_1.shape)\n",
    "  print(\"x_train_mix.shape: \", x_train_mix.shape)\n",
    "  maximum_image = np.maximum(x_test,x_test_1)\n",
    "  x_test_mix = maximum_image                                                    # Habilta para MAX - Inabilita para AVERAGE\n",
    "  print(\"x_test_1.shape:   \", x_test_1.shape)\n",
    "  print(\"y_test_1.shape:     \", y_test_1.shape)\n",
    "  print(\"x_test_mix.shape: \", x_test_mix.shape)\n",
    "\n",
    "## Superimposed digits - AVERAGE\n",
    "\n",
    "if MIX == \"AVERAGE\":\n",
    "  average_image = (x_train.astype(np.float32) + x_train_1.astype(np.float32)) / 2\n",
    "  average_image = average_image.astype(np.uint8)  # Convert the pixel values back to uint8\n",
    "  x_train_mix = average_image                                                      # Inhabilta para MAX - Habilita para AVERAGE\n",
    "  print(\"x_train_1.shape:   \", x_train_1.shape)\n",
    "  print(\"y_train_1.shape:     \", y_train_1.shape)\n",
    "  print(\"x_train_mix.shape: \", x_train_mix.shape)\n",
    "  average_image = (x_test.astype(np.float32) + x_test_1.astype(np.float32)) / 2\n",
    "  average_image = average_image.astype(np.uint8)  # Convert the pixel values back to uint8\n",
    "  x_test_mix = average_image                                                      # Inhabilta para MAX - Habilita para AVERAGE\n",
    "  print(\"x_test_1.shape:   \", x_test_1.shape)\n",
    "  print(\"y_test_1.shape:     \", y_test_1.shape)\n",
    "  print(\"x_test_mix.shape: \", x_test_mix.shape)\n",
    "\n",
    "#x_train: Imagenes escaladas 1D.\n",
    "#y_train: Vector one-hot encoded.\n",
    "\n",
    "\n",
    "\n",
    "\n",
    "\n",
    "\n",
    "\n",
    "\n",
    "\n",
    "\n",
    "\n",
    "\n",
    "#sampling layer\n",
    "## Reparameterization trick ----------------------------------------------------\n",
    "\n",
    "class Sampling(layers.Layer):\n",
    "  def call(self, inputs):\n",
    "    z_mean, z_log_var = inputs\n",
    "    batch = tf.shape(z_mean)[0]                                                 # batch = number of data in the batch\n",
    "    dim = tf.shape(z_mean)[1]                                                   # dim   = number of dimensions of \"z\"\n",
    "      # by default, random_normal has mean=0 and std=1.0\n",
    "    epsilon = tf.keras.backend.random_normal(shape=(batch, dim))\n",
    "    return z_mean + tf.keras.backend.exp(0.5 * z_log_var) * epsilon\n",
    "\n",
    "\n",
    "## Encoder ---------------------------------------------------------------------\n",
    "  # network parameters\n",
    "original_dim = np.shape(x_train)[1]\n",
    "n_cond = np.shape(y_train)[1]                                                   # n_cond = 10 (number of conditions)\n",
    "# n_cond = 0\n",
    "                                                                     # input without conditions\n",
    "#intermediate_dim = 512                   #256                         #128                 # 64\n",
    "intermediate_dim = 256                                                          #128                 # 64\n",
    "#intermediate_dim = 128                                                          # 64\n",
    "\n",
    "#latent_dim = 256\n",
    "latent_dim = 128                                                                #32                  # 2\n",
    "#latent_dim = 32\n",
    "#latent_dim = 2\n",
    "\n",
    "\n",
    "  # Define encoder model -------------------------------------------------------\n",
    "input_encoder = Input(shape=(original_dim,), name=\"input_encoder\")\n",
    "cond_encoder = Input(shape=(n_cond,), name=\"encoder_condition\")\n",
    "original_inputs = Concatenate()([input_encoder,cond_encoder])                   # se amplía la entrada \"x\" (784) con la condición \"c\" (10)\n",
    "\n",
    "x = Dense(intermediate_dim, activation=\"relu\")(original_inputs)\n",
    "z_mean = Dense(latent_dim, name=\"z_mean\")(x)\n",
    "z_log_var = Dense(latent_dim, name=\"z_log_var\")(x)\n",
    "\n",
    "  # use reparameterization trick to push the sampling out as input\n",
    "z = Sampling()((z_mean, z_log_var))                                             # (z_mean, z_log_var) is the tuple\n",
    "\n",
    "encoder = Model(inputs=original_inputs, outputs=[z_mean, z_log_var, z], name=\"encoder\")\n",
    "#encoder.summary()\n",
    "\n",
    "model_inputs = encoder.inputs\n",
    "\n",
    "## Decoder ---------------------------------------------------------------------\n",
    "\n",
    "n_cond = np.shape(y_train)[1]                                                   # n_cond = 10 (number of conditions) ¿se repite del encoder?\n",
    "\n",
    "  # Define decoder model -------------------------------------------------------\n",
    "z_inputs = Input(shape=(latent_dim,), name=\"z_sampling\")\n",
    "print(z_inputs)\n",
    "cond_decoder = Input(shape=(n_cond,), name=\"decoder_condition\")\n",
    "print(cond_decoder)\n",
    "latent_inputs = Concatenate()([z_inputs,cond_decoder])\n",
    "\n",
    "x = Dense(intermediate_dim, activation=\"relu\")(latent_inputs)\n",
    "decoder_outputs = Dense(original_dim, activation=\"sigmoid\")(x)\n",
    "\n",
    "  # instantiate decoder model\n",
    "decoder = Model(inputs=latent_inputs, outputs=decoder_outputs, name=\"decoder\")\n",
    "#decoder.summary()\n",
    "\n",
    "## VAE Model -------------------------------------------------------------------\n",
    "\n",
    "  # Define VAE model -------------------------------------------------------\n",
    "\n",
    "original_inputs = Concatenate()([input_encoder,cond_encoder]) #¿Por que se vuelve a definir?\n",
    "z_mean, z_log_var, z = encoder(original_inputs)\n",
    "z_inputs = z\n",
    "\n",
    "latent_inputs = Concatenate()([z_inputs,cond_decoder])\n",
    "vae_outputs = decoder(latent_inputs)\n",
    "\n",
    "  # instantiate VAE model\n",
    "vae = Model(inputs=[original_inputs, cond_decoder], outputs=vae_outputs, name=\"vae\")\n",
    "vae.summary()\n",
    "\n",
    "plot_model(decoder, show_shapes=True)\n",
    "\n",
    "\n",
    "## Compile Loss and Optimizer\n",
    "\n",
    "Beta = 1.                                                                       # Beta-VAE\n",
    "\n",
    "  # Loss -----------------------------------------------------------------------\n",
    "def vae_loss(y_true, y_pred):\n",
    "   z_mean, z_log_var, z = encoder(original_inputs)\n",
    "\n",
    "   kl_loss = -0.5 * (z_log_var - tf.square(z_mean) - tf.exp(z_log_var) + 1)\n",
    "   kl_loss = tf.reduce_sum(kl_loss, -1)\n",
    "\n",
    "   mse = tf.keras.losses.MeanSquaredError()\n",
    "   mse1 = mse(y_true, y_pred) * original_dim\n",
    "\n",
    "     # Add KL divergence regularization loss.\n",
    "   loss = mse1 + Beta * kl_loss\n",
    "   return tf.reduce_mean(loss) #, axis=-1)\n",
    "\n",
    "  # Optimizer ------------------------------------------------------------------\n",
    "optimizer = tf.keras.optimizers.Adam(learning_rate=1e-3)\n",
    "\n",
    "  # Compile --------------------------------------------------------------------\n",
    "vae.compile(optimizer, loss=vae_loss)\n",
    "\n",
    "\n",
    "\n",
    "\n",
    "\n",
    "input_encoder = x_train\n",
    "cond_encoder = y_train\n",
    "cond_decoder = y_train\n",
    "estimated_output = x_train\n",
    "\n",
    "input_encoder_val = x_val\n",
    "cond_encoder_val = y_val\n",
    "cond_decoder_val = y_val\n",
    "estimated_output_val = x_val\n",
    "\n",
    "\n",
    "original_inputs = Concatenate()([input_encoder, cond_encoder])\n",
    "original_inputs_val = Concatenate()([input_encoder_val, cond_encoder_val])\n",
    "\n",
    "print(\"Shapes of training inputs:\")\n",
    "print(f\"original_inputs: {original_inputs.shape}\")\n",
    "#print(f\"y_train: {y_train.shape}\")\n",
    "print(\"Shapes of validation inputs:\")\n",
    "print(f\"original_inputs_val: {original_inputs_val.shape}\")\n",
    "#print(f\"y_val: {y_val.shape}\")\n",
    "\n",
    "# Fit the model with early stopping and checkpoint callbacks\n",
    "# Training\n",
    "vae.fit(\n",
    "    x=[original_inputs, cond_decoder],\n",
    "    y=estimated_output,\n",
    "    batch_size=128,\n",
    "    epochs=5,\n",
    "    validation_data=([original_inputs_val, cond_decoder_val], estimated_output_val)  # Use validation data\n",
    "   #callbacks=[cp_callback, early_stopping]  # EarlyStopping to the list of callbacks\n",
    ")\n"
   ]
  },
  {
   "cell_type": "markdown",
   "id": "b76cc4bd",
   "metadata": {},
   "source": [
    "Modelo cVAE"
   ]
  },
  {
   "cell_type": "code",
   "execution_count": null,
   "id": "17752a12",
   "metadata": {},
   "outputs": [
    {
     "name": "stdout",
     "output_type": "stream",
     "text": [
      "<KerasTensor shape=(None, 128), dtype=float32, sparse=False, ragged=False, name=z_sampling>\n",
      "<KerasTensor shape=(None, 10), dtype=float32, sparse=False, ragged=False, name=decoder_condition>\n"
     ]
    }
   ],
   "source": []
  },
  {
   "cell_type": "code",
   "execution_count": null,
   "id": "fcb9c6ab",
   "metadata": {},
   "outputs": [],
   "source": []
  },
  {
   "cell_type": "code",
   "execution_count": null,
   "id": "4e0be79d",
   "metadata": {},
   "outputs": [
    {
     "name": "stdout",
     "output_type": "stream",
     "text": [
      "Shapes of training inputs:\n",
      "original_inputs: (55000, 794)\n",
      "Shapes of validation inputs:\n",
      "original_inputs_val: (5000, 794)\n",
      "Epoch 1/5\n",
      "\u001b[1m430/430\u001b[0m \u001b[32m━━━━━━━━━━━━━━━━━━━━\u001b[0m\u001b[37m\u001b[0m \u001b[1m226s\u001b[0m 522ms/step - loss: 65.6599 - val_loss: 40.4396\n",
      "Epoch 2/5\n",
      "\u001b[1m430/430\u001b[0m \u001b[32m━━━━━━━━━━━━━━━━━━━━\u001b[0m\u001b[37m\u001b[0m \u001b[1m222s\u001b[0m 516ms/step - loss: 39.5660 - val_loss: 36.2619\n",
      "Epoch 3/5\n",
      "\u001b[1m430/430\u001b[0m \u001b[32m━━━━━━━━━━━━━━━━━━━━\u001b[0m\u001b[37m\u001b[0m \u001b[1m209s\u001b[0m 486ms/step - loss: 36.1933 - val_loss: 34.6226\n",
      "Epoch 4/5\n",
      "\u001b[1m430/430\u001b[0m \u001b[32m━━━━━━━━━━━━━━━━━━━━\u001b[0m\u001b[37m\u001b[0m \u001b[1m207s\u001b[0m 481ms/step - loss: 34.5644 - val_loss: 33.0922\n",
      "Epoch 5/5\n",
      "\u001b[1m430/430\u001b[0m \u001b[32m━━━━━━━━━━━━━━━━━━━━\u001b[0m\u001b[37m\u001b[0m \u001b[1m203s\u001b[0m 471ms/step - loss: 33.1928 - val_loss: 31.7077\n"
     ]
    },
    {
     "data": {
      "text/plain": [
       "'\\nvae.fit(\\n    x=[original_inputs, cond_decoder],\\n    y=estimated_output,\\n    batch_size=128,\\n    epochs=100,\\n    #validation_data=([val_inputs, val_cond_decoder], val_estimated_output),  # Include validation data\\n    #callbacks=[cp_callback, early_stopping]  # Add early_stopping to callbacks\\n    callbacks=[cp_callback]\\n)\\n'"
      ]
     },
     "execution_count": 8,
     "metadata": {},
     "output_type": "execute_result"
    }
   ],
   "source": []
  },
  {
   "cell_type": "code",
   "execution_count": null,
   "id": "a7f3e592",
   "metadata": {},
   "outputs": [
    {
     "name": "stdout",
     "output_type": "stream",
     "text": [
      "\u001b[1m1/1\u001b[0m \u001b[32m━━━━━━━━━━━━━━━━━━━━\u001b[0m\u001b[37m\u001b[0m \u001b[1m0s\u001b[0m 30ms/step\n",
      "\u001b[1m1/1\u001b[0m \u001b[32m━━━━━━━━━━━━━━━━━━━━\u001b[0m\u001b[37m\u001b[0m \u001b[1m0s\u001b[0m 41ms/step\n",
      "\u001b[1m1/1\u001b[0m \u001b[32m━━━━━━━━━━━━━━━━━━━━\u001b[0m\u001b[37m\u001b[0m \u001b[1m0s\u001b[0m 34ms/step\n",
      "\u001b[1m1/1\u001b[0m \u001b[32m━━━━━━━━━━━━━━━━━━━━\u001b[0m\u001b[37m\u001b[0m \u001b[1m0s\u001b[0m 33ms/step\n",
      "\u001b[1m1/1\u001b[0m \u001b[32m━━━━━━━━━━━━━━━━━━━━\u001b[0m\u001b[37m\u001b[0m \u001b[1m0s\u001b[0m 35ms/step\n",
      "\u001b[1m1/1\u001b[0m \u001b[32m━━━━━━━━━━━━━━━━━━━━\u001b[0m\u001b[37m\u001b[0m \u001b[1m0s\u001b[0m 34ms/step\n",
      "\u001b[1m1/1\u001b[0m \u001b[32m━━━━━━━━━━━━━━━━━━━━\u001b[0m\u001b[37m\u001b[0m \u001b[1m0s\u001b[0m 50ms/step\n",
      "\u001b[1m1/1\u001b[0m \u001b[32m━━━━━━━━━━━━━━━━━━━━\u001b[0m\u001b[37m\u001b[0m \u001b[1m0s\u001b[0m 50ms/step\n",
      "\u001b[1m1/1\u001b[0m \u001b[32m━━━━━━━━━━━━━━━━━━━━\u001b[0m\u001b[37m\u001b[0m \u001b[1m0s\u001b[0m 33ms/step\n",
      "\u001b[1m1/1\u001b[0m \u001b[32m━━━━━━━━━━━━━━━━━━━━\u001b[0m\u001b[37m\u001b[0m \u001b[1m0s\u001b[0m 40ms/step\n"
     ]
    },
    {
     "data": {
      "image/png": "[encoded data removed]",
      "text/plain": [
       "<Figure size 1500x200 with 10 Axes>"
      ]
     },
     "metadata": {},
     "output_type": "display_data"
    }
   ],
   "source": [
    "import matplotlib.pyplot as plt\n",
    "import numpy as np\n",
    "\n",
    "img = np.expand_dims(x_train[0], axis=0)\n",
    "cond = np.expand_dims(y_train[0], axis=0)\n",
    "Xampliado = Concatenate()([img, cond])\n",
    "salida = vae.predict([Xampliado, cond])\n",
    "reconstruccion = salida[0].reshape(28, 28)\n",
    "plt.imshow(reconstruccion, cmap='gray')\n",
    "plt.show()\n",
    "\n",
    "\n",
    "# Selecciona una imagen de prueba\n",
    "img = np.expand_dims(x_train[0], axis=0)\n",
    "\n",
    "plt.figure(figsize=(15, 2))\n",
    "for i in range(10):\n",
    "    # Crea la condición one-hot para el dígito i\n",
    "    cond = np.zeros((1, 10))\n",
    "    cond[0, i] = 1\n",
    "\n",
    "    # Predice usando la misma condición para encoder y decoder\n",
    "    salida = vae.predict([Xampliado, cond])\n",
    "    reconstruccion = salida[0].reshape(28, 28)\n",
    "\n",
    "    plt.subplot(1, 10, i + 1)\n",
    "    plt.imshow(reconstruccion, cmap='gray')\n",
    "    plt.title(f\"Cond {i}\")\n",
    "    plt.axis('off')\n",
    "\n",
    "plt.suptitle(\"Reconstrucción cambiando la condición (dígito)\")\n",
    "plt.show()"
   ]
  },
  {
   "cell_type": "markdown",
   "id": "93cc462c",
   "metadata": {},
   "source": [
    "--------------------------------------------------------------------------------------------------------------------------------------------------------------------"
   ]
  }
 ],
 "metadata": {
  "kernelspec": {
   "display_name": "base",
   "language": "python",
   "name": "python3"
  },
  "language_info": {
   "codemirror_mode": {
    "name": "ipython",
    "version": 3
   },
   "file_extension": ".py",
   "mimetype": "text/x-python",
   "name": "python",
   "nbconvert_exporter": "python",
   "pygments_lexer": "ipython3",
   "version": "3.12.7"
  }
 },
 "nbformat": 4,
 "nbformat_minor": 5
}
