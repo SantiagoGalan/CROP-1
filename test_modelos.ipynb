{
 "cells": [
  {
   "cell_type": "markdown",
   "id": "d65b1e35",
   "metadata": {},
   "source": [
    "# Archivo para comparar varios modelos"
   ]
  },
  {
   "cell_type": "code",
   "execution_count": null,
   "id": "a5f64046",
   "metadata": {},
   "outputs": [],
   "source": [
    "import dataAcquisition\n",
    "import ReparameterizationTrick\n",
    "import Encoder\n",
    "import Decoder\n",
    "import VAE\n",
    "import loss\n",
    "import train\n",
    "import Predictor\n",
    "import importlib\n",
    "import numpy as np\n",
    "import tensorflow as tf\n",
    "tf.config.run_functions_eagerly(False)\n"
   ]
  },
  {
   "cell_type": "code",
   "execution_count": null,
   "id": "e89c7c47",
   "metadata": {},
   "outputs": [],
   "source": [
    "importlib.reload(dataAcquisition)\n",
    "\n",
    "x_train, x_val, y_train, y_val, average_image, x_train_mix, x_test_mix,x_train_1, y_train_1 =  dataAcquisition.data_acquisition()"
   ]
  },
  {
   "cell_type": "code",
   "execution_count": null,
   "id": "8e75b9f3",
   "metadata": {},
   "outputs": [],
   "source": [
    "import VAE\n",
    "importlib.reload(VAE)\n",
    "\n",
    "espacio_latente = [256]\n",
    "modelos = []\n",
    "for laten in espacio_latente:\n",
    "    modelos.append(VAE.definir_modelo(x_train, y_train, latent_dim = laten, show_model=False) )\n",
    "        "
   ]
  },
  {
   "cell_type": "code",
   "execution_count": null,
   "id": "583ff984",
   "metadata": {},
   "outputs": [],
   "source": [
    "print( modelos)"
   ]
  },
  {
   "cell_type": "code",
   "execution_count": null,
   "id": "312791f9",
   "metadata": {},
   "outputs": [],
   "source": [
    "import tensorflow as tf\n",
    "import numpy as np\n",
    "import matplotlib.pyplot as plt\n",
    "importlib.reload(loss)\n",
    "# Optimizer ------------------------------------------------------------------\n",
    "i=0\n",
    "# Compile --------------------------------------------------------------------\n",
    "for vae in modelos: \n",
    "    optimizer = tf.keras.optimizers.Adam(learning_rate=1e-3)\n",
    "\n",
    "    vae.compile(optimizer, loss=loss.vae_loss) #cambiar nombre\n",
    "\n",
    "    img = np.expand_dims(x_train[0], axis=0)\n",
    "    cond = np.expand_dims(y_train[0], axis=0)\n",
    "    salida = vae.predict([img, cond,cond])\n",
    "\n",
    "    reconstruccion = salida[0].reshape(28, 28)\n",
    "    plt.imshow(reconstruccion, cmap='gray')\n",
    "    plt.title(f\"salida del modelo {i}\")\n",
    "    plt.show()\n",
    "    i += 1"
   ]
  },
  {
   "cell_type": "code",
   "execution_count": null,
   "id": "f03276c5",
   "metadata": {},
   "outputs": [],
   "source": [
    "for vae in modelos:\n",
    "    print(f\"MODELO NÚMERO: 0\")\n",
    "    for i in range(20):\n",
    "        train.train(vae, x_train, y_train, x_val, y_val)\n",
    "        salida = vae.predict([img, cond, cond])\n",
    "        reconstruccion = salida[0].reshape(28, 28)\n",
    "        plt.imshow(reconstruccion, cmap='gray')\n",
    "        plt.show()\n",
    "\n",
    "print(\"##############################################################\")\n"
   ]
  },
  {
   "cell_type": "code",
   "execution_count": null,
   "id": "b241a5ad",
   "metadata": {},
   "outputs": [],
   "source": [
    "for vae in modelos: \n",
    "    optimizer = tf.keras.optimizers.Adam(learning_rate=1e-3)\n",
    "\n",
    "    #vae.compile(optimizer, loss=loss.vae_loss) #cambiar nombre\n",
    "\n",
    "    img = np.expand_dims(x_train[0], axis=0)\n",
    "    cond = np.expand_dims(y_train[0], axis=0)\n",
    "    salida = vae.predict([img, cond,cond])\n",
    "\n",
    "    reconstruccion = salida[0].reshape(28, 28)\n",
    "    plt.imshow(reconstruccion, cmap='gray')\n",
    "    plt.title(f\"salida del modelo {i}\")\n",
    "    plt.show()\n",
    "    i += 1"
   ]
  },
  {
   "cell_type": "code",
   "execution_count": null,
   "id": "e93e540a",
   "metadata": {},
   "outputs": [],
   "source": [
    "predictor_c = Predictor.predictor()\n",
    "optimizer = tf.keras.optimizers.Adam(learning_rate=1e-3)\n",
    "predictor_c.compile(optimizer, loss=\"categorical_crossentropy\")\n",
    "print(img.shape)\n",
    "prediccion = np.argmax( predictor_c.predict(img))\n",
    "img[0].reshape(28, 28)\n",
    "plt.imshow(img[0], cmap='gray')\n",
    "plt.title(\"Imagen original\")\n",
    "plt.axis('off')\n",
    "plt.show()\n",
    "\n",
    "for i in range(20): \n",
    "    #reconstruccion = prediccion[0].reshape(28, 28)\n",
    "    print(f\"prediccion  {prediccion}\")\n",
    "    prediccion = np.argmax(predictor_c.predict(img))\n",
    "\n",
    "\n",
    "    predictor_c.fit(\n",
    "        x=x_train,\n",
    "        y=y_train,\n",
    "        batch_size=128,\n",
    "        epochs=1,\n",
    "        validation_data=(x_val, y_val)  # Include validation data\n",
    "        )"
   ]
  },
  {
   "cell_type": "code",
   "execution_count": null,
   "id": "ba886fff",
   "metadata": {},
   "outputs": [],
   "source": [
    "import inferencias\n",
    "importlib.reload(inferencias)\n",
    "# Suponiendo que ya tienes definidos:\n",
    "# x_train, x_train_1, y_train, y_train_1, predictor, encoder, decoder\n",
    "encoder=0\n",
    "decoder=0\n",
    "for vae in modelos:\n",
    "    print(f\"MODELO NÚMERO: 0\")\n",
    "                                #x_train, x_train_1, y_train, predictor, y_train_1,\n",
    "    inferencias.inferncia_modelo(x_train[0:2], x_train_1[0:2], y_train[0:2], predictor_c,encoder,decoder ,y_train_1[0:2],vae)\n",
    "\n",
    "print(\"##############################################################\")\n",
    "print(\"cambio de modelo\")\n",
    "\n",
    "\n"
   ]
  }
 ],
 "metadata": {
  "kernelspec": {
   "display_name": "base",
   "language": "python",
   "name": "python3"
  },
  "language_info": {
   "codemirror_mode": {
    "name": "ipython",
    "version": 3
   },
   "file_extension": ".py",
   "mimetype": "text/x-python",
   "name": "python",
   "nbconvert_exporter": "python",
   "pygments_lexer": "ipython3",
   "version": "3.12.7"
  }
 },
 "nbformat": 4,
 "nbformat_minor": 5
}
